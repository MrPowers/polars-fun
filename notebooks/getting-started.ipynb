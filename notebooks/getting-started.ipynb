{
 "cells": [
  {
   "cell_type": "code",
   "execution_count": 1,
   "id": "86f72803-50b3-40a4-8bf7-baaaa82a31f1",
   "metadata": {},
   "outputs": [],
   "source": [
    "import polars as pl"
   ]
  },
  {
   "cell_type": "code",
   "execution_count": 2,
   "id": "dcd0d6b8-5edc-4c35-b1ca-5e1245affd20",
   "metadata": {},
   "outputs": [],
   "source": [
    "df = pl.read_csv(\"https://j.mp/iriscsv\")"
   ]
  },
  {
   "cell_type": "code",
   "execution_count": 3,
   "id": "e0323b38-2317-400c-ad2c-9fb57b37bc95",
   "metadata": {},
   "outputs": [],
   "source": [
    "df = df.filter(pl.col(\"sepal_length\") > 5).groupby(\"species\").agg(pl.all().sum())"
   ]
  },
  {
   "cell_type": "code",
   "execution_count": 4,
   "id": "9549b57c-77cc-49e7-87c5-5981625a1808",
   "metadata": {},
   "outputs": [
    {
     "data": {
      "text/html": [
       "<div>\n",
       "<style scoped>\n",
       "    .dataframe tbody tr th:only-of-type {\n",
       "        vertical-align: middle;\n",
       "    }\n",
       "\n",
       "    .dataframe tbody tr th {\n",
       "        vertical-align: top;\n",
       "    }\n",
       "\n",
       "    .dataframe thead th {\n",
       "        text-align: right;\n",
       "    }\n",
       "</style>\n",
       "<table border=\"1 \"class=\"dataframe \">\n",
       "<thead>\n",
       "<tr>\n",
       "<th>\n",
       "species\n",
       "</th>\n",
       "<th>\n",
       "sepal_length_sum\n",
       "</th>\n",
       "<th>\n",
       "sepal_width_sum\n",
       "</th>\n",
       "<th>\n",
       "petal_length_sum\n",
       "</th>\n",
       "<th>\n",
       "petal_width_sum\n",
       "</th>\n",
       "</tr>\n",
       "<tr>\n",
       "<td>\n",
       "str\n",
       "</td>\n",
       "<td>\n",
       "f64\n",
       "</td>\n",
       "<td>\n",
       "f64\n",
       "</td>\n",
       "<td>\n",
       "f64\n",
       "</td>\n",
       "<td>\n",
       "f64\n",
       "</td>\n",
       "</tr>\n",
       "</thead>\n",
       "<tbody>\n",
       "<tr>\n",
       "<td>\n",
       "\"virginica\"\n",
       "</td>\n",
       "<td>\n",
       "324.5\n",
       "</td>\n",
       "<td>\n",
       "146.2\n",
       "</td>\n",
       "<td>\n",
       "273.09999999999997\n",
       "</td>\n",
       "<td>\n",
       "99.6\n",
       "</td>\n",
       "</tr>\n",
       "<tr>\n",
       "<td>\n",
       "\"setosa\"\n",
       "</td>\n",
       "<td>\n",
       "116.9\n",
       "</td>\n",
       "<td>\n",
       "81.69999999999999\n",
       "</td>\n",
       "<td>\n",
       "33.199999999999996\n",
       "</td>\n",
       "<td>\n",
       "6.1\n",
       "</td>\n",
       "</tr>\n",
       "<tr>\n",
       "<td>\n",
       "\"versicolor\"\n",
       "</td>\n",
       "<td>\n",
       "281.9\n",
       "</td>\n",
       "<td>\n",
       "131.79999999999998\n",
       "</td>\n",
       "<td>\n",
       "202.9\n",
       "</td>\n",
       "<td>\n",
       "63.30000000000001\n",
       "</td>\n",
       "</tr>\n",
       "</tbody>\n",
       "</table>\n",
       "</div>"
      ],
      "text/plain": [
       "shape: (3, 5)\n",
       "┌────────────┬──────────────────┬────────────────────┬────────────────────┬───────────────────┐\n",
       "│ species    ┆ sepal_length_sum ┆ sepal_width_sum    ┆ petal_length_sum   ┆ petal_width_sum   │\n",
       "│ ---        ┆ ---              ┆ ---                ┆ ---                ┆ ---               │\n",
       "│ str        ┆ f64              ┆ f64                ┆ f64                ┆ f64               │\n",
       "╞════════════╪══════════════════╪════════════════════╪════════════════════╪═══════════════════╡\n",
       "│ virginica  ┆ 324.5            ┆ 146.2              ┆ 273.09999999999997 ┆ 99.6              │\n",
       "├╌╌╌╌╌╌╌╌╌╌╌╌┼╌╌╌╌╌╌╌╌╌╌╌╌╌╌╌╌╌╌┼╌╌╌╌╌╌╌╌╌╌╌╌╌╌╌╌╌╌╌╌┼╌╌╌╌╌╌╌╌╌╌╌╌╌╌╌╌╌╌╌╌┼╌╌╌╌╌╌╌╌╌╌╌╌╌╌╌╌╌╌╌┤\n",
       "│ setosa     ┆ 116.9            ┆ 81.69999999999999  ┆ 33.199999999999996 ┆ 6.1               │\n",
       "├╌╌╌╌╌╌╌╌╌╌╌╌┼╌╌╌╌╌╌╌╌╌╌╌╌╌╌╌╌╌╌┼╌╌╌╌╌╌╌╌╌╌╌╌╌╌╌╌╌╌╌╌┼╌╌╌╌╌╌╌╌╌╌╌╌╌╌╌╌╌╌╌╌┼╌╌╌╌╌╌╌╌╌╌╌╌╌╌╌╌╌╌╌┤\n",
       "│ versicolor ┆ 281.9            ┆ 131.79999999999998 ┆ 202.9              ┆ 63.30000000000001 │\n",
       "└────────────┴──────────────────┴────────────────────┴────────────────────┴───────────────────┘"
      ]
     },
     "execution_count": 4,
     "metadata": {},
     "output_type": "execute_result"
    }
   ],
   "source": [
    "df"
   ]
  },
  {
   "cell_type": "markdown",
   "id": "c4ccef53-69f0-4bad-a432-80c651fbdfe5",
   "metadata": {},
   "source": [
    "## Lazy quick start"
   ]
  },
  {
   "cell_type": "code",
   "execution_count": 13,
   "id": "64d8799b-dc3e-48de-9fc6-139c69c8089f",
   "metadata": {},
   "outputs": [
    {
     "ename": "RuntimeError",
     "evalue": "Any(Io(Os { code: 2, kind: NotFound, message: \"No such file or directory\" }))",
     "output_type": "error",
     "traceback": [
      "\u001b[0;31m---------------------------------------------------------------------------\u001b[0m",
      "\u001b[0;31mRuntimeError\u001b[0m                              Traceback (most recent call last)",
      "\u001b[0;32m/var/folders/d2/116lnkgd0l7f51xr7msb2jnh0000gn/T/ipykernel_3269/1735886109.py\u001b[0m in \u001b[0;36m<module>\u001b[0;34m\u001b[0m\n\u001b[1;32m      1\u001b[0m df2 = (\n\u001b[0;32m----> 2\u001b[0;31m     \u001b[0mpl\u001b[0m\u001b[0;34m.\u001b[0m\u001b[0mscan_csv\u001b[0m\u001b[0;34m(\u001b[0m\u001b[0;34m\"https://j.mp/iriscsv\"\u001b[0m\u001b[0;34m)\u001b[0m\u001b[0;34m\u001b[0m\u001b[0;34m\u001b[0m\u001b[0m\n\u001b[0m\u001b[1;32m      3\u001b[0m     \u001b[0;34m.\u001b[0m\u001b[0mfilter\u001b[0m\u001b[0;34m(\u001b[0m\u001b[0mpl\u001b[0m\u001b[0;34m.\u001b[0m\u001b[0mcol\u001b[0m\u001b[0;34m(\u001b[0m\u001b[0;34m\"sepal_length\"\u001b[0m\u001b[0;34m)\u001b[0m \u001b[0;34m>\u001b[0m \u001b[0;36m5\u001b[0m\u001b[0;34m)\u001b[0m\u001b[0;34m\u001b[0m\u001b[0;34m\u001b[0m\u001b[0m\n\u001b[1;32m      4\u001b[0m     \u001b[0;34m.\u001b[0m\u001b[0mgroupby\u001b[0m\u001b[0;34m(\u001b[0m\u001b[0;34m\"species\"\u001b[0m\u001b[0;34m)\u001b[0m\u001b[0;34m\u001b[0m\u001b[0;34m\u001b[0m\u001b[0m\n\u001b[1;32m      5\u001b[0m     \u001b[0;34m.\u001b[0m\u001b[0magg\u001b[0m\u001b[0;34m(\u001b[0m\u001b[0mpl\u001b[0m\u001b[0;34m.\u001b[0m\u001b[0mall\u001b[0m\u001b[0;34m(\u001b[0m\u001b[0;34m)\u001b[0m\u001b[0;34m.\u001b[0m\u001b[0msum\u001b[0m\u001b[0;34m(\u001b[0m\u001b[0;34m)\u001b[0m\u001b[0;34m)\u001b[0m\u001b[0;34m\u001b[0m\u001b[0;34m\u001b[0m\u001b[0m\n",
      "\u001b[0;32m~/opt/miniconda3/envs/polars-fun/lib/python3.9/site-packages/polars/io.py\u001b[0m in \u001b[0;36mscan_csv\u001b[0;34m(file, has_header, sep, comment_char, quote_char, skip_rows, dtypes, null_values, ignore_errors, cache, with_column_names, infer_schema_length, n_rows, low_memory, **kwargs)\u001b[0m\n\u001b[1;32m    529\u001b[0m         \u001b[0mfile\u001b[0m \u001b[0;34m=\u001b[0m \u001b[0mstr\u001b[0m\u001b[0;34m(\u001b[0m\u001b[0mfile\u001b[0m\u001b[0;34m)\u001b[0m\u001b[0;34m\u001b[0m\u001b[0;34m\u001b[0m\u001b[0m\n\u001b[1;32m    530\u001b[0m \u001b[0;34m\u001b[0m\u001b[0m\n\u001b[0;32m--> 531\u001b[0;31m     return LazyFrame.scan_csv(\n\u001b[0m\u001b[1;32m    532\u001b[0m         \u001b[0mfile\u001b[0m\u001b[0;34m=\u001b[0m\u001b[0mfile\u001b[0m\u001b[0;34m,\u001b[0m\u001b[0;34m\u001b[0m\u001b[0;34m\u001b[0m\u001b[0m\n\u001b[1;32m    533\u001b[0m         \u001b[0mhas_header\u001b[0m\u001b[0;34m=\u001b[0m\u001b[0mhas_header\u001b[0m\u001b[0;34m,\u001b[0m\u001b[0;34m\u001b[0m\u001b[0;34m\u001b[0m\u001b[0m\n",
      "\u001b[0;32m~/opt/miniconda3/envs/polars-fun/lib/python3.9/site-packages/polars/internals/lazy_frame.py\u001b[0m in \u001b[0;36mscan_csv\u001b[0;34m(file, has_header, sep, comment_char, quote_char, skip_rows, dtypes, null_values, ignore_errors, cache, with_column_names, infer_schema_length, n_rows, low_memory)\u001b[0m\n\u001b[1;32m     84\u001b[0m \u001b[0;34m\u001b[0m\u001b[0m\n\u001b[1;32m     85\u001b[0m         \u001b[0mself\u001b[0m \u001b[0;34m=\u001b[0m \u001b[0mLazyFrame\u001b[0m\u001b[0;34m.\u001b[0m\u001b[0m__new__\u001b[0m\u001b[0;34m(\u001b[0m\u001b[0mLazyFrame\u001b[0m\u001b[0;34m)\u001b[0m\u001b[0;34m\u001b[0m\u001b[0;34m\u001b[0m\u001b[0m\n\u001b[0;32m---> 86\u001b[0;31m         self._ldf = PyLazyFrame.new_from_csv(\n\u001b[0m\u001b[1;32m     87\u001b[0m             \u001b[0mfile\u001b[0m\u001b[0;34m,\u001b[0m\u001b[0;34m\u001b[0m\u001b[0;34m\u001b[0m\u001b[0m\n\u001b[1;32m     88\u001b[0m             \u001b[0msep\u001b[0m\u001b[0;34m,\u001b[0m\u001b[0;34m\u001b[0m\u001b[0;34m\u001b[0m\u001b[0m\n",
      "\u001b[0;31mRuntimeError\u001b[0m: Any(Io(Os { code: 2, kind: NotFound, message: \"No such file or directory\" }))"
     ]
    }
   ],
   "source": [
    "df2 = (\n",
    "    pl.scan_csv(\"https://j.mp/iriscsv\")\n",
    "    .filter(pl.col(\"sepal_length\") > 5)\n",
    "    .groupby(\"species\")\n",
    "    .agg(pl.all().sum())\n",
    "    .collect()\n",
    ")"
   ]
  },
  {
   "cell_type": "code",
   "execution_count": null,
   "id": "b7ee079a-434d-4e88-a380-e12b1a71ae32",
   "metadata": {},
   "outputs": [],
   "source": []
  }
 ],
 "metadata": {
  "kernelspec": {
   "display_name": "Python [conda env:polars-fun] *",
   "language": "python",
   "name": "conda-env-polars-fun-py"
  },
  "language_info": {
   "codemirror_mode": {
    "name": "ipython",
    "version": 3
   },
   "file_extension": ".py",
   "mimetype": "text/x-python",
   "name": "python",
   "nbconvert_exporter": "python",
   "pygments_lexer": "ipython3",
   "version": "3.9.9"
  }
 },
 "nbformat": 4,
 "nbformat_minor": 5
}
