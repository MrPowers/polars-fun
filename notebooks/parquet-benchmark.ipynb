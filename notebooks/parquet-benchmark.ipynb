{
 "cells": [
  {
   "cell_type": "code",
   "execution_count": 1,
   "id": "79fe4831-645b-4e5a-8cea-3f7598746dbc",
   "metadata": {},
   "outputs": [],
   "source": [
    "import glob\n",
    "import os\n",
    "\n",
    "import polars as pl"
   ]
  },
  {
   "cell_type": "code",
   "execution_count": 2,
   "id": "649a2822-b681-4c1a-a07f-3c2eb5038aa9",
   "metadata": {},
   "outputs": [],
   "source": [
    "home = os.path.expanduser(\"~\")"
   ]
  },
  {
   "cell_type": "markdown",
   "id": "7a65b142-5753-42eb-98d5-7cd6df5fa441",
   "metadata": {},
   "source": [
    "## Run on tiny dataset"
   ]
  },
  {
   "cell_type": "code",
   "execution_count": 4,
   "id": "98552ee6-e40e-415d-9939-70e20daa1a1c",
   "metadata": {},
   "outputs": [],
   "source": [
    "path = f\"{home}/data/timeseries/1-month/parquet\"\n",
    "all_files = glob.glob(path + \"/*.parquet\")"
   ]
  },
  {
   "cell_type": "code",
   "execution_count": 5,
   "id": "e53cac87-58f9-4e88-8630-de35838c91e8",
   "metadata": {},
   "outputs": [],
   "source": [
    "ldf = pl.concat(list(pl.scan_parquet(f) for f in all_files))"
   ]
  },
  {
   "cell_type": "code",
   "execution_count": 6,
   "id": "06a6f7c9-e785-49ee-9c69-f7ad73bc3c18",
   "metadata": {},
   "outputs": [
    {
     "name": "stdout",
     "output_type": "stream",
     "text": [
      "CPU times: user 200 ms, sys: 144 ms, total: 344 ms\n",
      "Wall time: 235 ms\n"
     ]
    }
   ],
   "source": [
    "%%time\n",
    "df = ldf.select(pl.col(\"id\").n_unique()).collect()"
   ]
  },
  {
   "cell_type": "markdown",
   "id": "85459a72-f7b9-4193-80c3-b8613f2e1744",
   "metadata": {},
   "source": [
    "## Eager API on small dataset"
   ]
  },
  {
   "cell_type": "code",
   "execution_count": 7,
   "id": "110f11f6-361b-41c9-8b1a-95be942c35e5",
   "metadata": {},
   "outputs": [],
   "source": [
    "df = pl.concat(list(pl.read_parquet(f) for f in all_files))"
   ]
  },
  {
   "cell_type": "code",
   "execution_count": 8,
   "id": "2a23fe91-489f-430d-a084-b3b3ca58b3f5",
   "metadata": {},
   "outputs": [
    {
     "name": "stdout",
     "output_type": "stream",
     "text": [
      "shape: (1, 1)\n",
      "┌─────┐\n",
      "│ id  │\n",
      "│ --- │\n",
      "│ u32 │\n",
      "╞═════╡\n",
      "│ 290 │\n",
      "└─────┘\n",
      "CPU times: user 68.3 ms, sys: 7.55 ms, total: 75.9 ms\n",
      "Wall time: 75.4 ms\n"
     ]
    }
   ],
   "source": [
    "%%time\n",
    "print(df[[pl.col(\"id\").n_unique()]])"
   ]
  },
  {
   "cell_type": "markdown",
   "id": "d5045fd1-1f27-4775-89aa-a1369e70ab28",
   "metadata": {},
   "source": [
    "## Run on a large dataset"
   ]
  },
  {
   "cell_type": "code",
   "execution_count": 3,
   "id": "ae838010-f982-4fb6-9b64-efef1c1f8d39",
   "metadata": {},
   "outputs": [],
   "source": [
    "path = f\"{home}/data/timeseries/20-years/parquet\"\n",
    "all_files = glob.glob(path + \"/*.parquet\")"
   ]
  },
  {
   "cell_type": "code",
   "execution_count": 12,
   "id": "06a60cd1-a99e-4db6-a460-883a6f636d6b",
   "metadata": {},
   "outputs": [],
   "source": [
    "ldf = pl.concat(list(pl.scan_parquet(f) for f in all_files))"
   ]
  },
  {
   "cell_type": "code",
   "execution_count": 13,
   "id": "92a7503f-ec83-497f-b2f8-cafdd0d1f891",
   "metadata": {},
   "outputs": [
    {
     "name": "stdout",
     "output_type": "stream",
     "text": [
      "CPU times: user 39.9 s, sys: 23.6 s, total: 1min 3s\n",
      "Wall time: 1min 40s\n"
     ]
    }
   ],
   "source": [
    "%%time\n",
    "df = ldf.select(pl.col(\"id\").n_unique()).collect()"
   ]
  },
  {
   "cell_type": "code",
   "execution_count": 14,
   "id": "0b24a54e-0434-4fe5-892c-746c3530bb9f",
   "metadata": {},
   "outputs": [
    {
     "data": {
      "text/html": [
       "<div>\n",
       "<style scoped>\n",
       "    .dataframe tbody tr th:only-of-type {\n",
       "        vertical-align: middle;\n",
       "    }\n",
       "\n",
       "    .dataframe tbody tr th {\n",
       "        vertical-align: top;\n",
       "    }\n",
       "\n",
       "    .dataframe thead th {\n",
       "        text-align: right;\n",
       "    }\n",
       "</style>\n",
       "<table border=\"1 \"class=\"dataframe \">\n",
       "<thead>\n",
       "<tr>\n",
       "<th>\n",
       "id\n",
       "</th>\n",
       "</tr>\n",
       "<tr>\n",
       "<td>\n",
       "u32\n",
       "</td>\n",
       "</tr>\n",
       "</thead>\n",
       "<tbody>\n",
       "<tr>\n",
       "<td>\n",
       "367\n",
       "</td>\n",
       "</tr>\n",
       "</tbody>\n",
       "</table>\n",
       "</div>"
      ],
      "text/plain": [
       "shape: (1, 1)\n",
       "┌─────┐\n",
       "│ id  │\n",
       "│ --- │\n",
       "│ u32 │\n",
       "╞═════╡\n",
       "│ 367 │\n",
       "└─────┘"
      ]
     },
     "execution_count": 14,
     "metadata": {},
     "output_type": "execute_result"
    }
   ],
   "source": [
    "df"
   ]
  },
  {
   "cell_type": "markdown",
   "id": "e5d57634-f771-4dbb-a49b-72bf2ae65075",
   "metadata": {},
   "source": [
    "## Large dataset, different approach"
   ]
  },
  {
   "cell_type": "code",
   "execution_count": 4,
   "id": "c50d8fca-c5f3-4723-be16-f81b886a8bb8",
   "metadata": {},
   "outputs": [
    {
     "name": "stdout",
     "output_type": "stream",
     "text": [
      "CPU times: user 40.4 s, sys: 23.4 s, total: 1min 3s\n",
      "Wall time: 1min 36s\n"
     ]
    },
    {
     "data": {
      "text/html": [
       "<div>\n",
       "<style scoped>\n",
       "    .dataframe tbody tr th:only-of-type {\n",
       "        vertical-align: middle;\n",
       "    }\n",
       "\n",
       "    .dataframe tbody tr th {\n",
       "        vertical-align: top;\n",
       "    }\n",
       "\n",
       "    .dataframe thead th {\n",
       "        text-align: right;\n",
       "    }\n",
       "</style>\n",
       "<table border=\"1 \"class=\"dataframe \">\n",
       "<thead>\n",
       "<tr>\n",
       "<th>\n",
       "id\n",
       "</th>\n",
       "</tr>\n",
       "<tr>\n",
       "<td>\n",
       "u32\n",
       "</td>\n",
       "</tr>\n",
       "</thead>\n",
       "<tbody>\n",
       "<tr>\n",
       "<td>\n",
       "367\n",
       "</td>\n",
       "</tr>\n",
       "</tbody>\n",
       "</table>\n",
       "</div>"
      ],
      "text/plain": [
       "shape: (1, 1)\n",
       "┌─────┐\n",
       "│ id  │\n",
       "│ --- │\n",
       "│ u32 │\n",
       "╞═════╡\n",
       "│ 367 │\n",
       "└─────┘"
      ]
     },
     "execution_count": 4,
     "metadata": {},
     "output_type": "execute_result"
    }
   ],
   "source": [
    "%%time\n",
    "\n",
    "df = pl.concat(list(pl.read_parquet(f) for f in all_files), rechunk=False)\n",
    "df.select(pl.col(\"id\").n_unique())"
   ]
  },
  {
   "cell_type": "code",
   "execution_count": null,
   "id": "58cc6c84-b320-4e1f-9b1f-f0fad43b988f",
   "metadata": {},
   "outputs": [],
   "source": []
  }
 ],
 "metadata": {
  "kernelspec": {
   "display_name": "Python [conda env:polars-fun] *",
   "language": "python",
   "name": "conda-env-polars-fun-py"
  },
  "language_info": {
   "codemirror_mode": {
    "name": "ipython",
    "version": 3
   },
   "file_extension": ".py",
   "mimetype": "text/x-python",
   "name": "python",
   "nbconvert_exporter": "python",
   "pygments_lexer": "ipython3",
   "version": "3.9.9"
  }
 },
 "nbformat": 4,
 "nbformat_minor": 5
}
