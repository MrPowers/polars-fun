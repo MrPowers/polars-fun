{
 "cells": [
  {
   "cell_type": "code",
   "execution_count": 2,
   "id": "b7b47812-e489-40d0-a403-986196af9b39",
   "metadata": {},
   "outputs": [],
   "source": [
    "import polars as pl"
   ]
  },
  {
   "cell_type": "markdown",
   "id": "c4bb3109-b593-477b-9c5e-540da8dc3335",
   "metadata": {},
   "source": [
    "## Write Parquet file"
   ]
  },
  {
   "cell_type": "code",
   "execution_count": 3,
   "id": "e5cd880c-3bbd-41a3-9c88-64918991c0b8",
   "metadata": {},
   "outputs": [],
   "source": [
    "df = pl.DataFrame({\"foo\": [1, 2, 3], \"bar\": [None, \"bak\", \"baz\"]})"
   ]
  },
  {
   "cell_type": "code",
   "execution_count": 4,
   "id": "967bd6de-a0db-4281-8820-628f4299ecdc",
   "metadata": {},
   "outputs": [],
   "source": [
    "df.to_parquet(\"data/file1.parquet\")"
   ]
  },
  {
   "cell_type": "markdown",
   "id": "86b67a39-e56b-4d43-b052-09166eb4082d",
   "metadata": {},
   "source": [
    "## Read Parquet file"
   ]
  },
  {
   "cell_type": "code",
   "execution_count": 6,
   "id": "fa40a566-d540-453b-bfb6-d590f49c01a0",
   "metadata": {},
   "outputs": [],
   "source": [
    "df2 = pl.read_parquet(\"data/file1.parquet\")"
   ]
  },
  {
   "cell_type": "code",
   "execution_count": 7,
   "id": "b9d1d58a-a237-498c-b0d6-51c76c940d60",
   "metadata": {},
   "outputs": [
    {
     "data": {
      "text/html": [
       "<div>\n",
       "<style scoped>\n",
       "    .dataframe tbody tr th:only-of-type {\n",
       "        vertical-align: middle;\n",
       "    }\n",
       "\n",
       "    .dataframe tbody tr th {\n",
       "        vertical-align: top;\n",
       "    }\n",
       "\n",
       "    .dataframe thead th {\n",
       "        text-align: right;\n",
       "    }\n",
       "</style>\n",
       "<table border=\"1 \"class=\"dataframe \">\n",
       "<thead>\n",
       "<tr>\n",
       "<th>\n",
       "foo\n",
       "</th>\n",
       "<th>\n",
       "bar\n",
       "</th>\n",
       "</tr>\n",
       "<tr>\n",
       "<td>\n",
       "i64\n",
       "</td>\n",
       "<td>\n",
       "str\n",
       "</td>\n",
       "</tr>\n",
       "</thead>\n",
       "<tbody>\n",
       "<tr>\n",
       "<td>\n",
       "1\n",
       "</td>\n",
       "<td>\n",
       "null\n",
       "</td>\n",
       "</tr>\n",
       "<tr>\n",
       "<td>\n",
       "2\n",
       "</td>\n",
       "<td>\n",
       "\"bak\"\n",
       "</td>\n",
       "</tr>\n",
       "<tr>\n",
       "<td>\n",
       "3\n",
       "</td>\n",
       "<td>\n",
       "\"baz\"\n",
       "</td>\n",
       "</tr>\n",
       "</tbody>\n",
       "</table>\n",
       "</div>"
      ],
      "text/plain": [
       "shape: (3, 2)\n",
       "┌─────┬──────┐\n",
       "│ foo ┆ bar  │\n",
       "│ --- ┆ ---  │\n",
       "│ i64 ┆ str  │\n",
       "╞═════╪══════╡\n",
       "│ 1   ┆ null │\n",
       "├╌╌╌╌╌┼╌╌╌╌╌╌┤\n",
       "│ 2   ┆ bak  │\n",
       "├╌╌╌╌╌┼╌╌╌╌╌╌┤\n",
       "│ 3   ┆ baz  │\n",
       "└─────┴──────┘"
      ]
     },
     "execution_count": 7,
     "metadata": {},
     "output_type": "execute_result"
    }
   ],
   "source": [
    "df2"
   ]
  },
  {
   "cell_type": "code",
   "execution_count": 8,
   "id": "240201ba-739f-4f7b-9d47-2ed2ea6ba625",
   "metadata": {},
   "outputs": [
    {
     "data": {
      "text/plain": [
       "polars.internals.frame.DataFrame"
      ]
     },
     "execution_count": 8,
     "metadata": {},
     "output_type": "execute_result"
    }
   ],
   "source": [
    "type(df2)"
   ]
  },
  {
   "cell_type": "markdown",
   "id": "d8999a0c-95df-4a35-a51f-3430768b81d1",
   "metadata": {},
   "source": [
    "## Write another Parquet file"
   ]
  },
  {
   "cell_type": "code",
   "execution_count": 9,
   "id": "d6a3f57b-5a06-402f-8531-277aa5380b57",
   "metadata": {},
   "outputs": [],
   "source": [
    "df = pl.DataFrame({\"foo\": [4, 5], \"bar\": [\"hi\", \"there\"]})"
   ]
  },
  {
   "cell_type": "code",
   "execution_count": 10,
   "id": "01bcc50c-f882-4e64-ac84-8d433ee8cfb0",
   "metadata": {},
   "outputs": [],
   "source": [
    "df.to_parquet(\"data/file2.parquet\")"
   ]
  },
  {
   "cell_type": "markdown",
   "id": "9c4a47b0-de98-4a3c-a4fd-f08900900c83",
   "metadata": {},
   "source": [
    "## Read multiple Parquet files"
   ]
  },
  {
   "cell_type": "code",
   "execution_count": 22,
   "id": "f50b4ec7-bdf9-4be2-b337-e42c040da29b",
   "metadata": {},
   "outputs": [],
   "source": [
    "import glob"
   ]
  },
  {
   "cell_type": "code",
   "execution_count": 23,
   "id": "ddb6a2a1-6507-4bc6-8789-30b6fb2b1478",
   "metadata": {},
   "outputs": [],
   "source": [
    "all_files = glob.glob(\"data/*.parquet\")"
   ]
  },
  {
   "cell_type": "code",
   "execution_count": 24,
   "id": "941c9d61-ba6b-4f5b-9185-a9a5653f1493",
   "metadata": {},
   "outputs": [],
   "source": [
    "df = pl.concat(list(pl.read_parquet(f) for f in all_files))"
   ]
  },
  {
   "cell_type": "code",
   "execution_count": 25,
   "id": "b9295ae1-c4e0-4822-a8d5-bce9eae00683",
   "metadata": {},
   "outputs": [
    {
     "data": {
      "text/html": [
       "<div>\n",
       "<style scoped>\n",
       "    .dataframe tbody tr th:only-of-type {\n",
       "        vertical-align: middle;\n",
       "    }\n",
       "\n",
       "    .dataframe tbody tr th {\n",
       "        vertical-align: top;\n",
       "    }\n",
       "\n",
       "    .dataframe thead th {\n",
       "        text-align: right;\n",
       "    }\n",
       "</style>\n",
       "<table border=\"1 \"class=\"dataframe \">\n",
       "<thead>\n",
       "<tr>\n",
       "<th>\n",
       "foo\n",
       "</th>\n",
       "<th>\n",
       "bar\n",
       "</th>\n",
       "</tr>\n",
       "<tr>\n",
       "<td>\n",
       "i64\n",
       "</td>\n",
       "<td>\n",
       "str\n",
       "</td>\n",
       "</tr>\n",
       "</thead>\n",
       "<tbody>\n",
       "<tr>\n",
       "<td>\n",
       "4\n",
       "</td>\n",
       "<td>\n",
       "\"hi\"\n",
       "</td>\n",
       "</tr>\n",
       "<tr>\n",
       "<td>\n",
       "5\n",
       "</td>\n",
       "<td>\n",
       "\"there\"\n",
       "</td>\n",
       "</tr>\n",
       "<tr>\n",
       "<td>\n",
       "1\n",
       "</td>\n",
       "<td>\n",
       "null\n",
       "</td>\n",
       "</tr>\n",
       "<tr>\n",
       "<td>\n",
       "2\n",
       "</td>\n",
       "<td>\n",
       "\"bak\"\n",
       "</td>\n",
       "</tr>\n",
       "<tr>\n",
       "<td>\n",
       "3\n",
       "</td>\n",
       "<td>\n",
       "\"baz\"\n",
       "</td>\n",
       "</tr>\n",
       "</tbody>\n",
       "</table>\n",
       "</div>"
      ],
      "text/plain": [
       "shape: (5, 2)\n",
       "┌─────┬───────┐\n",
       "│ foo ┆ bar   │\n",
       "│ --- ┆ ---   │\n",
       "│ i64 ┆ str   │\n",
       "╞═════╪═══════╡\n",
       "│ 4   ┆ hi    │\n",
       "├╌╌╌╌╌┼╌╌╌╌╌╌╌┤\n",
       "│ 5   ┆ there │\n",
       "├╌╌╌╌╌┼╌╌╌╌╌╌╌┤\n",
       "│ 1   ┆ null  │\n",
       "├╌╌╌╌╌┼╌╌╌╌╌╌╌┤\n",
       "│ 2   ┆ bak   │\n",
       "├╌╌╌╌╌┼╌╌╌╌╌╌╌┤\n",
       "│ 3   ┆ baz   │\n",
       "└─────┴───────┘"
      ]
     },
     "execution_count": 25,
     "metadata": {},
     "output_type": "execute_result"
    }
   ],
   "source": [
    "df"
   ]
  },
  {
   "cell_type": "code",
   "execution_count": null,
   "id": "e0c73d90-7b6d-472d-aec2-2a7d8c7c9766",
   "metadata": {},
   "outputs": [],
   "source": []
  }
 ],
 "metadata": {
  "kernelspec": {
   "display_name": "Python [conda env:polars-fun] *",
   "language": "python",
   "name": "conda-env-polars-fun-py"
  },
  "language_info": {
   "codemirror_mode": {
    "name": "ipython",
    "version": 3
   },
   "file_extension": ".py",
   "mimetype": "text/x-python",
   "name": "python",
   "nbconvert_exporter": "python",
   "pygments_lexer": "ipython3",
   "version": "3.9.9"
  }
 },
 "nbformat": 4,
 "nbformat_minor": 5
}
